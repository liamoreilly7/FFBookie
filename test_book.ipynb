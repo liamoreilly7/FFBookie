{
 "cells": [
  {
   "cell_type": "code",
   "execution_count": 83,
   "metadata": {},
   "outputs": [],
   "source": [
    "import pandas as pd\n",
    "import numpy as np\n",
    "import math"
   ]
  },
  {
   "cell_type": "code",
   "execution_count": 9,
   "metadata": {},
   "outputs": [],
   "source": [
    "# NFL Import\n",
    "from espn_api.football import *"
   ]
  },
  {
   "cell_type": "code",
   "execution_count": 16,
   "metadata": {},
   "outputs": [],
   "source": [
    "espn_s2 = \"{DE08842B-7384-4C68-B7C5-AB3BB102E995}\"\n",
    "swid = \"AEBDU030JkQcU9Pa5FCCQczqZoZIGjrRqt63%2BY8iYA3Eb2CE4KbLx0xdfwG2EFFJPA%2FrpUSGfuOVRfCCeX%2F%2BYX%2BBmJ6gFvTvE7UMZpSgH0WBgT%2BZMWYVWC6cJARuctk5ck5uToViuedkNwdMX55Qbx9uaMfknXGUsd5YtNXpeDnzYeVEj6x3Hrrfhi0E8LJCkBVBulS3LssLdUc2Bh057ZnVIVNqHN25DLcGnGtvCZE7js8lug0cj7qoTklTMJKvvn6w9WE1iWg0gKod40RpuorelZBhPXagJfz3n5h088%2BkjqHRIzbAdsurOux00ys3V1c%3D\""
   ]
  },
  {
   "cell_type": "code",
   "execution_count": 43,
   "metadata": {},
   "outputs": [],
   "source": [
    "league = League(league_id=605278, year=2024, espn_s2=espn_s2, swid=swid)"
   ]
  },
  {
   "cell_type": "code",
   "execution_count": 44,
   "metadata": {},
   "outputs": [
    {
     "name": "stdout",
     "output_type": "stream",
     "text": [
      "[Team(Jack FC), Team(The Abusement Park), Team(Ricardo 69), Team(Undisputed King), Team(Big Chief), Team(Night Dragon apwoeidjxcjsmwoxof), Team(Weeklong Marlin), Team(Shivakamini), Team(buffalo vanilla ice ), Team(Chang Soda), Team(Cole's Cool Team), Team(Joe 🥶ow)]\n"
     ]
    }
   ],
   "source": [
    "print(league.teams)"
   ]
  },
  {
   "cell_type": "code",
   "execution_count": 116,
   "metadata": {},
   "outputs": [
    {
     "data": {
      "text/plain": [
       "'Jack FC'"
      ]
     },
     "execution_count": 116,
     "metadata": {},
     "output_type": "execute_result"
    }
   ],
   "source": [
    "league.teams[0].team_name"
   ]
  },
  {
   "cell_type": "code",
   "execution_count": 58,
   "metadata": {},
   "outputs": [],
   "source": [
    "box_scores = league.box_scores(1)"
   ]
  },
  {
   "cell_type": "code",
   "execution_count": 59,
   "metadata": {},
   "outputs": [
    {
     "data": {
      "text/plain": [
       "[Box Score(Team(Jack FC) at Team(Big Chief)),\n",
       " Box Score(Team(buffalo vanilla ice ) at Team(Ricardo 69)),\n",
       " Box Score(Team(Cole's Cool Team) at Team(Weeklong Marlin)),\n",
       " Box Score(Team(The Abusement Park) at Team(Undisputed King)),\n",
       " Box Score(Team(Chang Soda) at Team(Joe 🥶ow)),\n",
       " Box Score(Team(Shivakamini) at Team(Night Dragon apwoeidjxcjsmwoxof))]"
      ]
     },
     "execution_count": 59,
     "metadata": {},
     "output_type": "execute_result"
    }
   ],
   "source": [
    "box_scores"
   ]
  },
  {
   "cell_type": "code",
   "execution_count": 60,
   "metadata": {},
   "outputs": [
    {
     "name": "stdout",
     "output_type": "stream",
     "text": [
      "Matchup 0 is Team(Big Chief) vs Team(Jack FC)\n",
      "This score of Matchup 0 was 91.46 : 105.9\n"
     ]
    }
   ],
   "source": [
    "print(f\"Matchup 0 is {box_scores[0].home_team} vs {box_scores[0].away_team}\")\n",
    "print(f\"This score of Matchup 0 was {box_scores[0].home_score} : {box_scores[0].away_score}\")"
   ]
  },
  {
   "cell_type": "code",
   "execution_count": 79,
   "metadata": {},
   "outputs": [],
   "source": [
    "def spread(week):\n",
    "    box_scores = league.box_scores(week)\n",
    "\n",
    "    spread_df = pd.DataFrame(columns=[\"home\", \"away\", \"spread\"])\n",
    "\n",
    "    for matchup in range(6):\n",
    "        home_team = box_scores[matchup].home_team\n",
    "        away_team = box_scores[matchup].away_team\n",
    "\n",
    "        home_proj = box_scores[matchup].home_projected\n",
    "        away_proj = box_scores[matchup].away_projected\n",
    "\n",
    "        diff = round((home_proj - away_proj), 2)\n",
    "\n",
    "        if diff > 0: spread = f\"-{diff}\"\n",
    "        else: spread = f\"+{-1*diff}\"\n",
    "\n",
    "        new_row = {\"home\": home_team, \"away\": away_team, \"spread\": spread}\n",
    "        spread_df = spread_df._append(new_row, ignore_index=True)\n",
    "    \n",
    "    return spread_df"
   ]
  },
  {
   "cell_type": "code",
   "execution_count": 80,
   "metadata": {},
   "outputs": [
    {
     "data": {
      "text/html": [
       "<div>\n",
       "<style scoped>\n",
       "    .dataframe tbody tr th:only-of-type {\n",
       "        vertical-align: middle;\n",
       "    }\n",
       "\n",
       "    .dataframe tbody tr th {\n",
       "        vertical-align: top;\n",
       "    }\n",
       "\n",
       "    .dataframe thead th {\n",
       "        text-align: right;\n",
       "    }\n",
       "</style>\n",
       "<table border=\"1\" class=\"dataframe\">\n",
       "  <thead>\n",
       "    <tr style=\"text-align: right;\">\n",
       "      <th></th>\n",
       "      <th>home</th>\n",
       "      <th>away</th>\n",
       "      <th>spread</th>\n",
       "    </tr>\n",
       "  </thead>\n",
       "  <tbody>\n",
       "    <tr>\n",
       "      <th>0</th>\n",
       "      <td>Team(The Abusement Park)</td>\n",
       "      <td>Team(Ricardo 69)</td>\n",
       "      <td>+15.69</td>\n",
       "    </tr>\n",
       "    <tr>\n",
       "      <th>1</th>\n",
       "      <td>Team(Undisputed King)</td>\n",
       "      <td>Team(Jack FC)</td>\n",
       "      <td>-6.64</td>\n",
       "    </tr>\n",
       "    <tr>\n",
       "      <th>2</th>\n",
       "      <td>Team(Chang Soda)</td>\n",
       "      <td>Team(Big Chief)</td>\n",
       "      <td>+4.17</td>\n",
       "    </tr>\n",
       "    <tr>\n",
       "      <th>3</th>\n",
       "      <td>Team(Shivakamini)</td>\n",
       "      <td>Team(buffalo vanilla ice )</td>\n",
       "      <td>-5.17</td>\n",
       "    </tr>\n",
       "    <tr>\n",
       "      <th>4</th>\n",
       "      <td>Team(Night Dragon apwoeidjxcjsmwoxof)</td>\n",
       "      <td>Team(Cole's Cool Team)</td>\n",
       "      <td>-2.72</td>\n",
       "    </tr>\n",
       "    <tr>\n",
       "      <th>5</th>\n",
       "      <td>Team(Joe 🥶ow)</td>\n",
       "      <td>Team(Weeklong Marlin)</td>\n",
       "      <td>-1.67</td>\n",
       "    </tr>\n",
       "  </tbody>\n",
       "</table>\n",
       "</div>"
      ],
      "text/plain": [
       "                                    home                        away  spread\n",
       "0               Team(The Abusement Park)            Team(Ricardo 69)  +15.69\n",
       "1                  Team(Undisputed King)               Team(Jack FC)   -6.64\n",
       "2                       Team(Chang Soda)             Team(Big Chief)   +4.17\n",
       "3                      Team(Shivakamini)  Team(buffalo vanilla ice )   -5.17\n",
       "4  Team(Night Dragon apwoeidjxcjsmwoxof)      Team(Cole's Cool Team)   -2.72\n",
       "5                          Team(Joe 🥶ow)       Team(Weeklong Marlin)   -1.67"
      ]
     },
     "execution_count": 80,
     "metadata": {},
     "output_type": "execute_result"
    }
   ],
   "source": [
    "df_test = spread(11)\n",
    "df_test"
   ]
  },
  {
   "cell_type": "code",
   "execution_count": 164,
   "metadata": {},
   "outputs": [],
   "source": [
    "def calculate_money_lines(home_proj, away_proj, k=0.05, vig=0.048):\n",
    "    # Calculate the spread\n",
    "    spread = home_proj - away_proj\n",
    "\n",
    "    # Convert spread to win probabilities using a logistic function\n",
    "    home_win_prob = 1 / (1 + math.exp(-k * spread))\n",
    "    away_win_prob = 1 - home_win_prob\n",
    "\n",
    "    # Adjust probabilities to include vig\n",
    "    total_prob = home_win_prob + away_win_prob\n",
    "    home_win_prob_adjusted = home_win_prob / total_prob * (1 - vig)\n",
    "    away_win_prob_adjusted = away_win_prob / total_prob * (1 - vig)\n",
    "\n",
    "    print(f\"{home_win_prob_adjusted}, {away_win_prob_adjusted}\")\n",
    "\n",
    "    # Convert probabilities to money lines\n",
    "    def prob_to_money_line(prob):\n",
    "        if prob > 0.5:  # Favorite\n",
    "            return round(-100 / (abs(prob - 1)))\n",
    "        else:  # Underdog\n",
    "            return round((1 / prob - 1) * 100)\n",
    "\n",
    "    home_money_line = prob_to_money_line(home_win_prob_adjusted)\n",
    "    away_money_line = prob_to_money_line(away_win_prob_adjusted)\n",
    "\n",
    "    return home_money_line, away_money_line"
   ]
  },
  {
   "cell_type": "code",
   "execution_count": 163,
   "metadata": {},
   "outputs": [
    {
     "name": "stdout",
     "output_type": "stream",
     "text": [
      "0.4168079711567202, 0.5351920288432798\n"
     ]
    },
    {
     "ename": "AttributeError",
     "evalue": "module 'math' has no attribute 'abs'",
     "output_type": "error",
     "traceback": [
      "\u001b[0;31m---------------------------------------------------------------------------\u001b[0m",
      "\u001b[0;31mAttributeError\u001b[0m                            Traceback (most recent call last)",
      "Cell \u001b[0;32mIn[163], line 4\u001b[0m\n\u001b[1;32m      1\u001b[0m home_proj \u001b[38;5;241m=\u001b[39m \u001b[38;5;241m95\u001b[39m\n\u001b[1;32m      2\u001b[0m away_proj \u001b[38;5;241m=\u001b[39m \u001b[38;5;241m100\u001b[39m\n\u001b[0;32m----> 4\u001b[0m home_ml, away_ml \u001b[38;5;241m=\u001b[39m \u001b[43mcalculate_money_lines\u001b[49m\u001b[43m(\u001b[49m\u001b[43mhome_proj\u001b[49m\u001b[43m,\u001b[49m\u001b[43m \u001b[49m\u001b[43maway_proj\u001b[49m\u001b[43m)\u001b[49m\n\u001b[1;32m      5\u001b[0m \u001b[38;5;28mprint\u001b[39m(\u001b[38;5;124mf\u001b[39m\u001b[38;5;124m\"\u001b[39m\u001b[38;5;124mHome Money Line: \u001b[39m\u001b[38;5;132;01m{\u001b[39;00mhome_ml\u001b[38;5;132;01m}\u001b[39;00m\u001b[38;5;124m\"\u001b[39m)\n\u001b[1;32m      6\u001b[0m \u001b[38;5;28mprint\u001b[39m(\u001b[38;5;124mf\u001b[39m\u001b[38;5;124m\"\u001b[39m\u001b[38;5;124mAway Money Line: \u001b[39m\u001b[38;5;132;01m{\u001b[39;00maway_ml\u001b[38;5;132;01m}\u001b[39;00m\u001b[38;5;124m\"\u001b[39m)\n",
      "Cell \u001b[0;32mIn[162], line 24\u001b[0m, in \u001b[0;36mcalculate_money_lines\u001b[0;34m(home_proj, away_proj, k, vig)\u001b[0m\n\u001b[1;32m     21\u001b[0m         \u001b[38;5;28;01mreturn\u001b[39;00m \u001b[38;5;28mround\u001b[39m((\u001b[38;5;241m1\u001b[39m \u001b[38;5;241m/\u001b[39m prob \u001b[38;5;241m-\u001b[39m \u001b[38;5;241m1\u001b[39m) \u001b[38;5;241m*\u001b[39m \u001b[38;5;241m100\u001b[39m)\n\u001b[1;32m     23\u001b[0m home_money_line \u001b[38;5;241m=\u001b[39m prob_to_money_line(home_win_prob_adjusted)\n\u001b[0;32m---> 24\u001b[0m away_money_line \u001b[38;5;241m=\u001b[39m \u001b[43mprob_to_money_line\u001b[49m\u001b[43m(\u001b[49m\u001b[43maway_win_prob_adjusted\u001b[49m\u001b[43m)\u001b[49m\n\u001b[1;32m     26\u001b[0m \u001b[38;5;28;01mreturn\u001b[39;00m home_money_line, away_money_line\n",
      "Cell \u001b[0;32mIn[162], line 19\u001b[0m, in \u001b[0;36mcalculate_money_lines.<locals>.prob_to_money_line\u001b[0;34m(prob)\u001b[0m\n\u001b[1;32m     17\u001b[0m \u001b[38;5;28;01mdef\u001b[39;00m \u001b[38;5;21mprob_to_money_line\u001b[39m(prob):\n\u001b[1;32m     18\u001b[0m     \u001b[38;5;28;01mif\u001b[39;00m prob \u001b[38;5;241m>\u001b[39m \u001b[38;5;241m0.5\u001b[39m:  \u001b[38;5;66;03m# Favorite\u001b[39;00m\n\u001b[0;32m---> 19\u001b[0m         \u001b[38;5;28;01mreturn\u001b[39;00m \u001b[38;5;28mround\u001b[39m(\u001b[38;5;241m-\u001b[39m\u001b[38;5;241m100\u001b[39m \u001b[38;5;241m/\u001b[39m (\u001b[43mmath\u001b[49m\u001b[38;5;241;43m.\u001b[39;49m\u001b[43mabs\u001b[49m(prob \u001b[38;5;241m-\u001b[39m \u001b[38;5;241m1\u001b[39m)))\n\u001b[1;32m     20\u001b[0m     \u001b[38;5;28;01melse\u001b[39;00m:  \u001b[38;5;66;03m# Underdog\u001b[39;00m\n\u001b[1;32m     21\u001b[0m         \u001b[38;5;28;01mreturn\u001b[39;00m \u001b[38;5;28mround\u001b[39m((\u001b[38;5;241m1\u001b[39m \u001b[38;5;241m/\u001b[39m prob \u001b[38;5;241m-\u001b[39m \u001b[38;5;241m1\u001b[39m) \u001b[38;5;241m*\u001b[39m \u001b[38;5;241m100\u001b[39m)\n",
      "\u001b[0;31mAttributeError\u001b[0m: module 'math' has no attribute 'abs'"
     ]
    }
   ],
   "source": [
    "home_proj = 95\n",
    "away_proj = 100\n",
    "\n",
    "home_ml, away_ml = calculate_money_lines(home_proj, away_proj)\n",
    "print(f\"Home Money Line: {home_ml}\")\n",
    "print(f\"Away Money Line: {away_ml}\")"
   ]
  }
 ],
 "metadata": {
  "kernelspec": {
   "display_name": "venv",
   "language": "python",
   "name": "python3"
  },
  "language_info": {
   "codemirror_mode": {
    "name": "ipython",
    "version": 3
   },
   "file_extension": ".py",
   "mimetype": "text/x-python",
   "name": "python",
   "nbconvert_exporter": "python",
   "pygments_lexer": "ipython3",
   "version": "3.12.7"
  }
 },
 "nbformat": 4,
 "nbformat_minor": 2
}
