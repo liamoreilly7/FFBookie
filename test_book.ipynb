{
 "cells": [
  {
   "cell_type": "code",
   "execution_count": 83,
   "metadata": {},
   "outputs": [],
   "source": [
    "import pandas as pd\n",
    "import numpy as np\n",
    "import math"
   ]
  },
  {
   "cell_type": "code",
   "execution_count": 9,
   "metadata": {},
   "outputs": [],
   "source": [
    "# NFL Import\n",
    "from espn_api.football import *"
   ]
  },
  {
   "cell_type": "code",
   "execution_count": 16,
   "metadata": {},
   "outputs": [],
   "source": [
    "espn_s2 = \"{DE08842B-7384-4C68-B7C5-AB3BB102E995}\"\n",
    "swid = \"AEBDU030JkQcU9Pa5FCCQczqZoZIGjrRqt63%2BY8iYA3Eb2CE4KbLx0xdfwG2EFFJPA%2FrpUSGfuOVRfCCeX%2F%2BYX%2BBmJ6gFvTvE7UMZpSgH0WBgT%2BZMWYVWC6cJARuctk5ck5uToViuedkNwdMX55Qbx9uaMfknXGUsd5YtNXpeDnzYeVEj6x3Hrrfhi0E8LJCkBVBulS3LssLdUc2Bh057ZnVIVNqHN25DLcGnGtvCZE7js8lug0cj7qoTklTMJKvvn6w9WE1iWg0gKod40RpuorelZBhPXagJfz3n5h088%2BkjqHRIzbAdsurOux00ys3V1c%3D\""
   ]
  },
  {
   "cell_type": "code",
   "execution_count": 43,
   "metadata": {},
   "outputs": [],
   "source": [
    "league = League(league_id=605278, year=2024, espn_s2=espn_s2, swid=swid)"
   ]
  },
  {
   "cell_type": "code",
   "execution_count": 44,
   "metadata": {},
   "outputs": [
    {
     "name": "stdout",
     "output_type": "stream",
     "text": [
      "[Team(Jack FC), Team(The Abusement Park), Team(Ricardo 69), Team(Undisputed King), Team(Big Chief), Team(Night Dragon apwoeidjxcjsmwoxof), Team(Weeklong Marlin), Team(Shivakamini), Team(buffalo vanilla ice ), Team(Chang Soda), Team(Cole's Cool Team), Team(Joe 🥶ow)]\n"
     ]
    }
   ],
   "source": [
    "print(league.teams)"
   ]
  },
  {
   "cell_type": "code",
   "execution_count": 116,
   "metadata": {},
   "outputs": [
    {
     "data": {
      "text/plain": [
       "'Jack FC'"
      ]
     },
     "execution_count": 116,
     "metadata": {},
     "output_type": "execute_result"
    }
   ],
   "source": [
    "league.teams[0].team_name"
   ]
  },
  {
   "cell_type": "code",
   "execution_count": 58,
   "metadata": {},
   "outputs": [],
   "source": [
    "box_scores = league.box_scores(1)"
   ]
  },
  {
   "cell_type": "code",
   "execution_count": 59,
   "metadata": {},
   "outputs": [
    {
     "data": {
      "text/plain": [
       "[Box Score(Team(Jack FC) at Team(Big Chief)),\n",
       " Box Score(Team(buffalo vanilla ice ) at Team(Ricardo 69)),\n",
       " Box Score(Team(Cole's Cool Team) at Team(Weeklong Marlin)),\n",
       " Box Score(Team(The Abusement Park) at Team(Undisputed King)),\n",
       " Box Score(Team(Chang Soda) at Team(Joe 🥶ow)),\n",
       " Box Score(Team(Shivakamini) at Team(Night Dragon apwoeidjxcjsmwoxof))]"
      ]
     },
     "execution_count": 59,
     "metadata": {},
     "output_type": "execute_result"
    }
   ],
   "source": [
    "box_scores"
   ]
  },
  {
   "cell_type": "code",
   "execution_count": 60,
   "metadata": {},
   "outputs": [
    {
     "name": "stdout",
     "output_type": "stream",
     "text": [
      "Matchup 0 is Team(Big Chief) vs Team(Jack FC)\n",
      "This score of Matchup 0 was 91.46 : 105.9\n"
     ]
    }
   ],
   "source": [
    "print(f\"Matchup 0 is {box_scores[0].home_team} vs {box_scores[0].away_team}\")\n",
    "print(f\"This score of Matchup 0 was {box_scores[0].home_score} : {box_scores[0].away_score}\")"
   ]
  },
  {
   "cell_type": "code",
   "execution_count": 79,
   "metadata": {},
   "outputs": [],
   "source": [
    "def spread(week):\n",
    "    box_scores = league.box_scores(week)\n",
    "\n",
    "    spread_df = pd.DataFrame(columns=[\"home\", \"away\", \"spread\"])\n",
    "\n",
    "    for matchup in range(6):\n",
    "        home_team = box_scores[matchup].home_team\n",
    "        away_team = box_scores[matchup].away_team\n",
    "\n",
    "        home_proj = box_scores[matchup].home_projected\n",
    "        away_proj = box_scores[matchup].away_projected\n",
    "\n",
    "        diff = round((home_proj - away_proj), 2)\n",
    "\n",
    "        if diff > 0: spread = f\"-{diff}\"\n",
    "        else: spread = f\"+{-1*diff}\"\n",
    "\n",
    "        new_row = {\"home\": home_team, \"away\": away_team, \"spread\": spread}\n",
    "        spread_df = spread_df._append(new_row, ignore_index=True)\n",
    "    \n",
    "    return spread_df"
   ]
  },
  {
   "cell_type": "code",
   "execution_count": 80,
   "metadata": {},
   "outputs": [
    {
     "data": {
      "text/html": [
       "<div>\n",
       "<style scoped>\n",
       "    .dataframe tbody tr th:only-of-type {\n",
       "        vertical-align: middle;\n",
       "    }\n",
       "\n",
       "    .dataframe tbody tr th {\n",
       "        vertical-align: top;\n",
       "    }\n",
       "\n",
       "    .dataframe thead th {\n",
       "        text-align: right;\n",
       "    }\n",
       "</style>\n",
       "<table border=\"1\" class=\"dataframe\">\n",
       "  <thead>\n",
       "    <tr style=\"text-align: right;\">\n",
       "      <th></th>\n",
       "      <th>home</th>\n",
       "      <th>away</th>\n",
       "      <th>spread</th>\n",
       "    </tr>\n",
       "  </thead>\n",
       "  <tbody>\n",
       "    <tr>\n",
       "      <th>0</th>\n",
       "      <td>Team(The Abusement Park)</td>\n",
       "      <td>Team(Ricardo 69)</td>\n",
       "      <td>+15.69</td>\n",
       "    </tr>\n",
       "    <tr>\n",
       "      <th>1</th>\n",
       "      <td>Team(Undisputed King)</td>\n",
       "      <td>Team(Jack FC)</td>\n",
       "      <td>-6.64</td>\n",
       "    </tr>\n",
       "    <tr>\n",
       "      <th>2</th>\n",
       "      <td>Team(Chang Soda)</td>\n",
       "      <td>Team(Big Chief)</td>\n",
       "      <td>+4.17</td>\n",
       "    </tr>\n",
       "    <tr>\n",
       "      <th>3</th>\n",
       "      <td>Team(Shivakamini)</td>\n",
       "      <td>Team(buffalo vanilla ice )</td>\n",
       "      <td>-5.17</td>\n",
       "    </tr>\n",
       "    <tr>\n",
       "      <th>4</th>\n",
       "      <td>Team(Night Dragon apwoeidjxcjsmwoxof)</td>\n",
       "      <td>Team(Cole's Cool Team)</td>\n",
       "      <td>-2.72</td>\n",
       "    </tr>\n",
       "    <tr>\n",
       "      <th>5</th>\n",
       "      <td>Team(Joe 🥶ow)</td>\n",
       "      <td>Team(Weeklong Marlin)</td>\n",
       "      <td>-1.67</td>\n",
       "    </tr>\n",
       "  </tbody>\n",
       "</table>\n",
       "</div>"
      ],
      "text/plain": [
       "                                    home                        away  spread\n",
       "0               Team(The Abusement Park)            Team(Ricardo 69)  +15.69\n",
       "1                  Team(Undisputed King)               Team(Jack FC)   -6.64\n",
       "2                       Team(Chang Soda)             Team(Big Chief)   +4.17\n",
       "3                      Team(Shivakamini)  Team(buffalo vanilla ice )   -5.17\n",
       "4  Team(Night Dragon apwoeidjxcjsmwoxof)      Team(Cole's Cool Team)   -2.72\n",
       "5                          Team(Joe 🥶ow)       Team(Weeklong Marlin)   -1.67"
      ]
     },
     "execution_count": 80,
     "metadata": {},
     "output_type": "execute_result"
    }
   ],
   "source": [
    "df_test = spread(11)\n",
    "df_test"
   ]
  },
  {
   "cell_type": "code",
   "execution_count": 173,
   "metadata": {},
   "outputs": [],
   "source": [
    "from ffbookie import FFBookie"
   ]
  },
  {
   "cell_type": "code",
   "execution_count": 183,
   "metadata": {},
   "outputs": [],
   "source": [
    "def calculate_money_lines(home_proj, away_proj, k=0.05, vig=0.048):\n",
    "    # Calculate the spread\n",
    "    spread = home_proj - away_proj\n",
    "\n",
    "    # Convert spread to win probabilities using a logistic function\n",
    "    home_win_prob = 1 / (1 + math.exp(-k * spread))\n",
    "    away_win_prob = 1 - home_win_prob\n",
    "\n",
    "    # Adjust probabilities to include vig\n",
    "    total_prob = home_win_prob + away_win_prob\n",
    "    home_win_prob_adjusted = home_win_prob / total_prob * (1 - vig)\n",
    "    away_win_prob_adjusted = away_win_prob / total_prob * (1 - vig)\n",
    "\n",
    "    print(f\"{home_win_prob_adjusted}, {away_win_prob_adjusted}\")\n",
    "\n",
    "    # Convert probabilities to money lines\n",
    "    def prob_to_money_line(prob):\n",
    "        if prob > 0.5:  # Favorite\n",
    "            return round(-100 / (abs(prob - 1)))\n",
    "        else:  # Underdog\n",
    "            return round((1 / prob - 1) * 100)\n",
    "\n",
    "    home_money_line = prob_to_money_line(home_win_prob_adjusted)\n",
    "    away_money_line = prob_to_money_line(away_win_prob_adjusted)\n",
    "\n",
    "    if home_money_line > 0 and away_money_line > 0:\n",
    "        home_money_line *= -1\n",
    "        away_money_line *= -1\n",
    "\n",
    "    return home_money_line, away_money_line"
   ]
  },
  {
   "cell_type": "code",
   "execution_count": 186,
   "metadata": {},
   "outputs": [
    {
     "name": "stdout",
     "output_type": "stream",
     "text": [
      "0.4168079711567202, 0.5351920288432798\n",
      "Home Money Line: 140\n",
      "Away Money Line: -215\n"
     ]
    }
   ],
   "source": [
    "home_proj = 110\n",
    "away_proj = 115\n",
    "\n",
    "home_ml, away_ml = calculate_money_lines(home_proj, away_proj, k=0.05, vig=0.048)\n",
    "print(f\"Home Money Line: {home_ml}\")\n",
    "print(f\"Away Money Line: {away_ml}\")"
   ]
  },
  {
   "cell_type": "code",
   "execution_count": 181,
   "metadata": {},
   "outputs": [
    {
     "data": {
      "text/html": [
       "<div>\n",
       "<style scoped>\n",
       "    .dataframe tbody tr th:only-of-type {\n",
       "        vertical-align: middle;\n",
       "    }\n",
       "\n",
       "    .dataframe tbody tr th {\n",
       "        vertical-align: top;\n",
       "    }\n",
       "\n",
       "    .dataframe thead th {\n",
       "        text-align: right;\n",
       "    }\n",
       "</style>\n",
       "<table border=\"1\" class=\"dataframe\">\n",
       "  <thead>\n",
       "    <tr style=\"text-align: right;\">\n",
       "      <th></th>\n",
       "      <th>home</th>\n",
       "      <th>away</th>\n",
       "      <th>spread (+110)</th>\n",
       "      <th>O/U (+110)</th>\n",
       "      <th>ML</th>\n",
       "    </tr>\n",
       "  </thead>\n",
       "  <tbody>\n",
       "    <tr>\n",
       "      <th>0</th>\n",
       "      <td>Big Chief</td>\n",
       "      <td>The Abusement Park</td>\n",
       "      <td>-7.4</td>\n",
       "      <td>212.4</td>\n",
       "      <td>home ML: -229, away ML: +157</td>\n",
       "    </tr>\n",
       "    <tr>\n",
       "      <th>1</th>\n",
       "      <td>buffalo vanilla ice</td>\n",
       "      <td>Undisputed King</td>\n",
       "      <td>-6.39</td>\n",
       "      <td>196.1</td>\n",
       "      <td>home ML: -223, away ML: +150</td>\n",
       "    </tr>\n",
       "    <tr>\n",
       "      <th>2</th>\n",
       "      <td>Cole's Cool Team</td>\n",
       "      <td>Chang Soda</td>\n",
       "      <td>+27.97</td>\n",
       "      <td>203.0</td>\n",
       "      <td>home ML: +430, away ML: -423</td>\n",
       "    </tr>\n",
       "    <tr>\n",
       "      <th>3</th>\n",
       "      <td>Weeklong Marlin</td>\n",
       "      <td>Shivakamini</td>\n",
       "      <td>+0.2</td>\n",
       "      <td>227.4</td>\n",
       "      <td>home ML: +111, away ML: 109</td>\n",
       "    </tr>\n",
       "    <tr>\n",
       "      <th>4</th>\n",
       "      <td>Ricardo 69</td>\n",
       "      <td>Night Dragon apwoeidjxcjsmwoxof</td>\n",
       "      <td>+0.06</td>\n",
       "      <td>224.9</td>\n",
       "      <td>home ML: +110, away ML: 110</td>\n",
       "    </tr>\n",
       "    <tr>\n",
       "      <th>5</th>\n",
       "      <td>Jack FC</td>\n",
       "      <td>Joe 🥶ow</td>\n",
       "      <td>-1.63</td>\n",
       "      <td>221.7</td>\n",
       "      <td>home ML: +102, away ML: 119</td>\n",
       "    </tr>\n",
       "  </tbody>\n",
       "</table>\n",
       "</div>"
      ],
      "text/plain": [
       "                   home                             away spread (+110)  \\\n",
       "0             Big Chief               The Abusement Park          -7.4   \n",
       "1  buffalo vanilla ice                   Undisputed King         -6.39   \n",
       "2      Cole's Cool Team                       Chang Soda        +27.97   \n",
       "3       Weeklong Marlin                      Shivakamini          +0.2   \n",
       "4            Ricardo 69  Night Dragon apwoeidjxcjsmwoxof         +0.06   \n",
       "5               Jack FC                          Joe 🥶ow         -1.63   \n",
       "\n",
       "  O/U (+110)                            ML  \n",
       "0      212.4  home ML: -229, away ML: +157  \n",
       "1      196.1  home ML: -223, away ML: +150  \n",
       "2      203.0  home ML: +430, away ML: -423  \n",
       "3      227.4   home ML: +111, away ML: 109  \n",
       "4      224.9   home ML: +110, away ML: 110  \n",
       "5      221.7   home ML: +102, away ML: 119  "
      ]
     },
     "execution_count": 181,
     "metadata": {},
     "output_type": "execute_result"
    }
   ],
   "source": [
    "bookie = FFBookie()\n",
    "\n",
    "week = 13\n",
    "bookie.calculate_odds(week)\n",
    "\n",
    "bookie.odds_df"
   ]
  }
 ],
 "metadata": {
  "kernelspec": {
   "display_name": "venv",
   "language": "python",
   "name": "python3"
  },
  "language_info": {
   "codemirror_mode": {
    "name": "ipython",
    "version": 3
   },
   "file_extension": ".py",
   "mimetype": "text/x-python",
   "name": "python",
   "nbconvert_exporter": "python",
   "pygments_lexer": "ipython3",
   "version": "3.12.7"
  }
 },
 "nbformat": 4,
 "nbformat_minor": 2
}
